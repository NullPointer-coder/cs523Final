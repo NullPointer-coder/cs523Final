{
 "cells": [
  {
   "cell_type": "code",
   "execution_count": 1,
   "metadata": {},
   "outputs": [],
   "source": [
    "import os\n",
    "import pandas as pd\n",
    "import fetchData\n",
    "import numpy as np\n",
    "import re\n",
    "import glob"
   ]
  },
  {
   "cell_type": "code",
   "execution_count": 2,
   "metadata": {},
   "outputs": [
    {
     "name": "stdout",
     "output_type": "stream",
     "text": [
      "Timestamp(year=2022, month=9, day=24, hour=15, minute=30)\n",
      "Timestamp(year=2023, month=1, day=None, hour=None, minute=None)\n",
      "2022-09-24 15:30\n",
      "2023-01\n"
     ]
    }
   ],
   "source": [
    "class Timestamp:\n",
    "    def __init__(self, year=None, month=None, day=None, hour=None, minute=None):\n",
    "        self.year = year\n",
    "        self.month = month\n",
    "        self.day = day\n",
    "        self.hour = hour\n",
    "        self.minute = minute\n",
    "\n",
    "    def __repr__(self):\n",
    "        return (f\"Timestamp(year={self.year}, month={self.month}, day={self.day}, \"\n",
    "                f\"hour={self.hour}, minute={self.minute})\")\n",
    "    \n",
    "    def to_string(self, format=\"%Y-%m-%d %H:%M\"):\n",
    "        \"\"\"Returns a formatted string representation of the timestamp. \n",
    "        If any part is None, it is omitted from the output.\"\"\"\n",
    "        \n",
    "        # Build a dictionary for format fields\n",
    "        fields = {\n",
    "            \"%Y\": str(self.year) if self.year is not None else \"\",\n",
    "            \"%m\": str(self.month).zfill(2) if self.month is not None else \"\",\n",
    "            \"%d\": str(self.day).zfill(2) if self.day is not None else \"\",\n",
    "            \"%H\": str(self.hour).zfill(2) if self.hour is not None else \"\",\n",
    "            \"%M\": str(self.minute).zfill(2) if self.minute is not None else \"\"\n",
    "        }\n",
    "        \n",
    "        # Replace the format placeholders with actual values or empty strings\n",
    "        formatted = format\n",
    "        for key, value in fields.items():\n",
    "            formatted = formatted.replace(key, value)\n",
    "        \n",
    "        # Strip any extra spaces or redundant separators (e.g., \"--\" or \" :\")\n",
    "        formatted = formatted.replace(\"  \", \" \").replace(\"--\", \"-\").replace(\" :\", \"\").strip()\n",
    "        \n",
    "        return formatted\n",
    "\n",
    "\n",
    "timestamp1 = Timestamp(year=2022, month=9, day=24, hour=15, minute=30)\n",
    "timestamp2 = Timestamp(year=2023, month=1)\n",
    "\n",
    "print(timestamp1)  \n",
    "print(timestamp2)  \n",
    "\n",
    "print(timestamp1.to_string())         \n",
    "print(timestamp2.to_string(\"%Y-%m\"))   \n"
   ]
  },
  {
   "cell_type": "code",
   "execution_count": 3,
   "metadata": {},
   "outputs": [],
   "source": [
    "data_type = 'CWAM'\n",
    "dataset_purposes = ['train', 'test']\n",
    "\n",
    "path_levels = ['part_1_', 'part_2_', 'part_3_', 'part_4_', 'part_5_', 'part_6_', 'part_7_', \n",
    "               'part_8_', 'part_9_', 'part_10_', 'part_11_', 'part_12_']\n"
   ]
  },
  {
   "cell_type": "code",
   "execution_count": 4,
   "metadata": {},
   "outputs": [],
   "source": [
    "def get_full_folder_path(dataset_purpose):\n",
    "    folder_paths = []\n",
    "\n",
    "    base_dir = fetchData.get_defult_base_dir()\n",
    "    path = os.path.join(base_dir, data_type, dataset_purpose)\n",
    "    all_folders = os.listdir(path)\n",
    "\n",
    "    for prefix in path_levels:\n",
    "        matching_folders = [folder for folder in all_folders if folder.startswith(prefix)]   \n",
    "        if matching_folders:\n",
    "            folder_paths.append(matching_folders[0])\n",
    "    return folder_paths"
   ]
  },
  {
   "cell_type": "code",
   "execution_count": 5,
   "metadata": {},
   "outputs": [],
   "source": [
    "def get_star_and_end_timestamp(part_path):\n",
    "    pattern = re.compile(r\"part_(\\d+)\"\n",
    "                     r\"_(?P<start_year>\\d{2})(?P<start_month>\\d{2})(?P<start_day>\\d{2})\"\n",
    "                     r\"_(?P<end_year>\\d{2})(?P<end_month>\\d{2})(?P<end_day>\\d{2})\")\n",
    "    match = pattern.match(part_path)\n",
    "    if match:\n",
    "        start_year = match.group(\"start_year\")\n",
    "        start_year = '20' + start_year\n",
    "        start_month = match.group(\"start_month\")\n",
    "        start_day = match.group(\"start_day\")\n",
    "        start_time = Timestamp(year=start_year, month=start_month, day=start_day)\n",
    "\n",
    "        end_year = match.group(\"end_year\")\n",
    "        end_year = '20' + end_year\n",
    "        end_month = match.group(\"end_month\")\n",
    "        end_day = match.group(\"end_day\")\n",
    "        end_time = Timestamp(year=end_year, month=end_month, day=end_day)\n",
    "    return [start_time, end_time]\n",
    "            "
   ]
  },
  {
   "cell_type": "code",
   "execution_count": 6,
   "metadata": {},
   "outputs": [],
   "source": [
    "def get_date_range(timerangelist):\n",
    "    start_date = timerangelist[0].to_string(\"%Y-%m-%d\")\n",
    "    end_date = timerangelist[1].to_string(\"%Y-%m-%d\")\n",
    "    date_range = pd.date_range(start=start_date, end=end_date)\n",
    "    \n",
    "    timestamp_list = [\n",
    "        Timestamp(year=date.year, month=date.month, day=date.day) for date in date_range\n",
    "    ]\n",
    "\n",
    "    return timestamp_list"
   ]
  },
  {
   "cell_type": "code",
   "execution_count": 7,
   "metadata": {},
   "outputs": [],
   "source": [
    "def find_forecast_files(directory, date):\n",
    "    year = date.to_string(\"%Y\")\n",
    "    month = date.to_string(\"%m\")\n",
    "    day = date.to_string(\"%d\")\n",
    "\n",
    "    pattern = os.path.join(directory, f\"{year}_{month}_{day}_??_??_GMT.Forecast.h5.CWAM.h5\")\n",
    "    return glob.glob(pattern)\n"
   ]
  },
  {
   "cell_type": "code",
   "execution_count": 8,
   "metadata": {},
   "outputs": [],
   "source": [
    "def set_hour_minute(file_name, date):\n",
    "    pattern = re.compile(r\"(\\d{4})\"\n",
    "                     r\"_(\\d{2})\"\n",
    "                     r\"_(\\d{2})\"\n",
    "                     r\"_(?P<hour>\\d{2})\"\n",
    "                     r\"_(?P<minute>\\d{2})\"\n",
    "                     r\"_GMT.Forecast\")\n",
    "    match = pattern.match(file_name)\n",
    "    if match:\n",
    "        date.hour = int(match.group(\"hour\"))\n",
    "        date.minute = int(match.group(\"minute\"))"
   ]
  },
  {
   "cell_type": "code",
   "execution_count": 9,
   "metadata": {},
   "outputs": [],
   "source": [
    "def to_pandas_timestamp(timestamp):\n",
    "    \n",
    "    local_time = pd.Timestamp(\n",
    "        year=timestamp.year,\n",
    "        month=timestamp.month,\n",
    "        day=timestamp.day,\n",
    "        hour=timestamp.hour if timestamp.hour is not None else 0,\n",
    "        minute=timestamp.minute if timestamp.minute is not None else 0\n",
    "    )\n",
    "    return local_time.tz_localize('UTC')\n"
   ]
  },
  {
   "cell_type": "code",
   "execution_count": 10,
   "metadata": {},
   "outputs": [],
   "source": [
    "def expand_coordinates(data_df):\n",
    "    data_df = data_df.explode('Latitudes')\n",
    "    data_df = data_df.explode('Longitudes')\n",
    "    return data_df"
   ]
  },
  {
   "cell_type": "code",
   "execution_count": null,
   "metadata": {},
   "outputs": [],
   "source": [
    "def aggregate_cwam_data(data_df, base_time):\n",
    "    base_time = to_pandas_timestamp(base_time)\n",
    "\n",
    "    data_df[\"Forecast Time (FCST)\"] = data_df[\"Forecast Time (FCST)\"].str.replace('FCST', '').astype(int)\n",
    "    data_df[\"Forecast Time (FCST)\"] = pd.to_timedelta(data_df[\"Forecast Time (FCST)\"], unit='m')\n",
    "    data_df[\"Actual Time\"] = base_time + data_df[\"Forecast Time (FCST)\"]\n",
    "    \n",
    "    data_df[\"Threshold (TRSH)\"] = data_df[\"Threshold (TRSH)\"].str.extract(r'(\\d+)').astype(float)\n",
    "    data_df = expand_coordinates(data_df)\n",
    "\n",
    "    data_df.set_index(\"Actual Time\", inplace=True)\n",
    "    \n",
    "    aggregated_df = data_df.groupby(pd.Grouper(freq=\"15min\")).agg({\n",
    "        \"Threshold (TRSH)\": \"mean\",  \n",
    "        \"Latitudes\": \"mean\",         \n",
    "        \"Longitudes\": \"mean\"\n",
    "    }).reset_index() \n",
    "    return aggregated_df"
   ]
  },
  {
   "cell_type": "code",
   "execution_count": null,
   "metadata": {},
   "outputs": [],
   "source": [
    "date = Timestamp(year=2022, month=9, day=1, hour=0, minute=0) \n",
    "data_range = date.to_string(\"%Y-%m-%d\")\n",
    "start_date = pd.to_datetime(data_range).tz_localize('UTC')\n",
    "end_date = start_date + pd.Timedelta(days=1)\n",
    "complete_times = pd.date_range(start=start_date, end=end_date, freq='15min')\n",
    "complete_index = pd.MultiIndex.from_product([complete_times], names=['timestamp_15mins'])\n",
    "complete_df = pd.DataFrame(index=complete_index).reset_index()\n",
    "\n",
    "df = fetchData.load_data( \n",
    "                    data_type=data_type, \n",
    "                    dataset_purpose='train', \n",
    "                    path_level='part_1_220901_220924', \n",
    "                    month=date.to_string(\"%m\"), \n",
    "                    day=date.to_string(\"%d\"), \n",
    "                    file_name=\"2022_09_01_00_00_GMT.Forecast\"\n",
    "                )\n",
    "df = aggregate_cwam_data(df, date)\n",
    "print(df.head())"
   ]
  },
  {
   "cell_type": "code",
   "execution_count": null,
   "metadata": {},
   "outputs": [
    {
     "ename": "KeyboardInterrupt",
     "evalue": "",
     "output_type": "error",
     "traceback": [
      "\u001b[0;31m---------------------------------------------------------------------------\u001b[0m",
      "\u001b[0;31mKeyboardInterrupt\u001b[0m                         Traceback (most recent call last)",
      "Cell \u001b[0;32mIn[40], line 20\u001b[0m\n\u001b[1;32m     18\u001b[0m file_name \u001b[38;5;241m=\u001b[39m forecast_file\u001b[38;5;241m.\u001b[39msplit(os\u001b[38;5;241m.\u001b[39mpath\u001b[38;5;241m.\u001b[39msep)[\u001b[38;5;241m-\u001b[39m\u001b[38;5;241m1\u001b[39m]\n\u001b[1;32m     19\u001b[0m file_name \u001b[38;5;241m=\u001b[39m file_name[:\u001b[38;5;28mlen\u001b[39m(file_name)\u001b[38;5;241m-\u001b[39m\u001b[38;5;241m11\u001b[39m]\n\u001b[0;32m---> 20\u001b[0m cwam_data \u001b[38;5;241m=\u001b[39m \u001b[43mfetchData\u001b[49m\u001b[38;5;241;43m.\u001b[39;49m\u001b[43mload_data\u001b[49m\u001b[43m(\u001b[49m\u001b[43m \u001b[49m\n\u001b[1;32m     21\u001b[0m \u001b[43m    \u001b[49m\u001b[43mdata_type\u001b[49m\u001b[38;5;241;43m=\u001b[39;49m\u001b[43mdata_type\u001b[49m\u001b[43m,\u001b[49m\u001b[43m \u001b[49m\n\u001b[1;32m     22\u001b[0m \u001b[43m    \u001b[49m\u001b[43mdataset_purpose\u001b[49m\u001b[38;5;241;43m=\u001b[39;49m\u001b[43mdataset_purpose\u001b[49m\u001b[43m,\u001b[49m\u001b[43m \u001b[49m\n\u001b[1;32m     23\u001b[0m \u001b[43m    \u001b[49m\u001b[43mpath_level\u001b[49m\u001b[38;5;241;43m=\u001b[39;49m\u001b[43mpart_path\u001b[49m\u001b[43m,\u001b[49m\u001b[43m \u001b[49m\n\u001b[1;32m     24\u001b[0m \u001b[43m    \u001b[49m\u001b[43mmonth\u001b[49m\u001b[38;5;241;43m=\u001b[39;49m\u001b[43mmonth\u001b[49m\u001b[43m,\u001b[49m\u001b[43m \u001b[49m\n\u001b[1;32m     25\u001b[0m \u001b[43m    \u001b[49m\u001b[43mday\u001b[49m\u001b[38;5;241;43m=\u001b[39;49m\u001b[43mday\u001b[49m\u001b[43m,\u001b[49m\u001b[43m \u001b[49m\n\u001b[1;32m     26\u001b[0m \u001b[43m    \u001b[49m\u001b[43mfile_name\u001b[49m\u001b[38;5;241;43m=\u001b[39;49m\u001b[43mfile_name\u001b[49m\n\u001b[1;32m     27\u001b[0m \u001b[43m\u001b[49m\u001b[43m)\u001b[49m\n\u001b[1;32m     28\u001b[0m \u001b[38;5;28;01mif\u001b[39;00m cwam_data \u001b[38;5;129;01mis\u001b[39;00m \u001b[38;5;28;01mNone\u001b[39;00m:\n\u001b[1;32m     29\u001b[0m     \u001b[38;5;28mprint\u001b[39m(file_name)\n",
      "File \u001b[0;32m~/finalProject/cs523Final/fetchData.py:242\u001b[0m, in \u001b[0;36mload_data\u001b[0;34m(data_type, dataset_purpose, path_level, month, day, file_name, base_dir)\u001b[0m\n\u001b[1;32m    239\u001b[0m \u001b[38;5;28;01melif\u001b[39;00m data_type \u001b[38;5;241m==\u001b[39m \u001b[38;5;124m\"\u001b[39m\u001b[38;5;124mCWAM\u001b[39m\u001b[38;5;124m\"\u001b[39m:\n\u001b[1;32m    240\u001b[0m     \u001b[38;5;28;01mwith\u001b[39;00m h5py\u001b[38;5;241m.\u001b[39mFile(file_path, \u001b[38;5;124m'\u001b[39m\u001b[38;5;124mr\u001b[39m\u001b[38;5;124m'\u001b[39m) \u001b[38;5;28;01mas\u001b[39;00m file:  \u001b[38;5;66;03m# Load HDF5 data\u001b[39;00m\n\u001b[0;32m--> 242\u001b[0m         \u001b[38;5;28;01mreturn\u001b[39;00m \u001b[43mget_dataset\u001b[49m\u001b[43m(\u001b[49m\u001b[43mfile\u001b[49m\u001b[43m)\u001b[49m\n\u001b[1;32m    243\u001b[0m \u001b[38;5;28;01melse\u001b[39;00m:\n\u001b[1;32m    244\u001b[0m     \u001b[38;5;28;01mraise\u001b[39;00m \u001b[38;5;167;01mValueError\u001b[39;00m(\u001b[38;5;124mf\u001b[39m\u001b[38;5;124m\"\u001b[39m\u001b[38;5;124mUnsupported file type: \u001b[39m\u001b[38;5;132;01m{\u001b[39;00mfile_ext\u001b[38;5;132;01m}\u001b[39;00m\u001b[38;5;124m\"\u001b[39m)\n",
      "File \u001b[0;32m~/finalProject/cs523Final/fetchData.py:99\u001b[0m, in \u001b[0;36mget_dataset\u001b[0;34m(f)\u001b[0m\n\u001b[1;32m     96\u001b[0m                     trsh \u001b[38;5;241m=\u001b[39m threshold\n\u001b[1;32m     97\u001b[0m                     poly \u001b[38;5;241m=\u001b[39m polygon\n\u001b[0;32m---> 99\u001b[0m                     data_entries\u001b[38;5;241m.\u001b[39mappend({\n\u001b[1;32m    100\u001b[0m                         \u001b[38;5;124m\"\u001b[39m\u001b[38;5;124mForecast Time (FCST)\u001b[39m\u001b[38;5;124m\"\u001b[39m : fcst,\n\u001b[1;32m    101\u001b[0m                         \u001b[38;5;124m\"\u001b[39m\u001b[38;5;124mFlight Level (FLVL)\u001b[39m\u001b[38;5;124m\"\u001b[39m : flvl,\n\u001b[1;32m    102\u001b[0m                         \u001b[38;5;124m\"\u001b[39m\u001b[38;5;124mThreshold (TRSH)\u001b[39m\u001b[38;5;124m\"\u001b[39m : trsh,\n\u001b[1;32m    103\u001b[0m                         \u001b[38;5;124m\"\u001b[39m\u001b[38;5;124mPolygon Number (POLY)\u001b[39m\u001b[38;5;124m\"\u001b[39m : poly,\n\u001b[1;32m    104\u001b[0m                         \u001b[38;5;124m\"\u001b[39m\u001b[38;5;124mLatitudes\u001b[39m\u001b[38;5;124m\"\u001b[39m : latitudes,\n\u001b[1;32m    105\u001b[0m                         \u001b[38;5;124m\"\u001b[39m\u001b[38;5;124mLongitudes\u001b[39m\u001b[38;5;124m\"\u001b[39m : longitudes\n\u001b[1;32m    106\u001b[0m                     })\n\u001b[1;32m    107\u001b[0m \u001b[38;5;28;01mreturn\u001b[39;00m pd\u001b[38;5;241m.\u001b[39mDataFrame(data_entries)\n",
      "\u001b[0;31mKeyboardInterrupt\u001b[0m: "
     ]
    }
   ],
   "source": [
    "for dataset_purpose in dataset_purposes:\n",
    "    folder_path_levels = get_full_folder_path(dataset_purpose)\n",
    "    for part_path in folder_path_levels:\n",
    "        timerangelist = get_star_and_end_timestamp(part_path)\n",
    "        timestamp_list = get_date_range(timerangelist)\n",
    "        for date in timestamp_list:\n",
    "            month = date.to_string(\"%m\")\n",
    "            day = date.to_string(\"%d\")\n",
    "            directory = os.path.join(fetchData.get_defult_base_dir(), \n",
    "                                     data_type, \n",
    "                                     dataset_purpose, \n",
    "                                     part_path, \n",
    "                                     month, \n",
    "                                     day\n",
    "                                    )\n",
    "            df_list = []\n",
    "            data_range = date.to_string(\"%Y-%m-%d\")\n",
    "            start_date = pd.to_datetime(data_range).tz_localize('UTC')\n",
    "            end_date = start_date + pd.Timedelta(days=1)\n",
    "            complete_times = pd.date_range(start=start_date, end=end_date, freq='15min')\n",
    "            complete_index = pd.MultiIndex.from_product([complete_times], names=['timestamp_15mins'])\n",
    "            complete_df = pd.DataFrame(index=complete_index).reset_index()\n",
    "\n",
    "            forecast_files = find_forecast_files(directory, date)\n",
    "            for forecast_file in forecast_files:\n",
    "                file_name = forecast_file.split(os.path.sep)[-1]\n",
    "                file_name = file_name[:len(file_name)-11]\n",
    "                set_hour_minute(file_name, date)\n",
    "                df = fetchData.load_data( \n",
    "                    data_type=data_type, \n",
    "                    dataset_purpose=dataset_purpose, \n",
    "                    path_level=part_path, \n",
    "                    month=month, \n",
    "                    day=day, \n",
    "                    file_name=file_name\n",
    "                )\n",
    "                \n",
    "                \n",
    "            \n",
    "    "
   ]
  },
  {
   "cell_type": "code",
   "execution_count": null,
   "metadata": {},
   "outputs": [],
   "source": []
  }
 ],
 "metadata": {
  "kernelspec": {
   "display_name": "myenv",
   "language": "python",
   "name": "python3"
  },
  "language_info": {
   "codemirror_mode": {
    "name": "ipython",
    "version": 3
   },
   "file_extension": ".py",
   "mimetype": "text/x-python",
   "name": "python",
   "nbconvert_exporter": "python",
   "pygments_lexer": "ipython3",
   "version": "3.12.3"
  }
 },
 "nbformat": 4,
 "nbformat_minor": 2
}
